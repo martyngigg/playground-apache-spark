{
 "cells": [
  {
   "cell_type": "code",
   "execution_count": 2,
   "id": "e2a42ef0-89d0-42a7-99d4-3f3bf9e22854",
   "metadata": {},
   "outputs": [],
   "source": [
    "import pyspark\n",
    "from delta import configure_spark_with_delta_pip\n",
    "\n",
    "# This will get wiped each time the container is shutdown and is just for demo purposes \n",
    "warehouse_location = \"/tmp/spark-warehouse\"\n",
    "\n",
    "builder = pyspark.sql.SparkSession.builder.appName(\"Delta\") \\\n",
    "    .config(\"spark.sql.extensions\", \"io.delta.sql.DeltaSparkSessionExtension\") \\\n",
    "    .config(\"spark.sql.catalog.spark_catalog\", \"org.apache.spark.sql.delta.catalog.DeltaCatalog\") \\\n",
    "    .config(\"spark.sql.warehouse.dir\", warehouse_location)\n",
    "\n",
    "spark = configure_spark_with_delta_pip(builder).getOrCreate()"
   ]
  },
  {
   "cell_type": "code",
   "execution_count": 6,
   "id": "99a2a26a-b2fa-43d9-952c-d52e05a389b5",
   "metadata": {},
   "outputs": [],
   "source": [
    "# Create in-memory SQL DataFrame from JSON\n",
    "df = spark.read.format(\"json\").load(\"/health_tracker_data_2020_01.json\")"
   ]
  },
  {
   "cell_type": "code",
   "execution_count": null,
   "id": "4ff2b217-11a3-4e97-aff3-a86ebddfef0c",
   "metadata": {},
   "outputs": [],
   "source": [
    "df.printSchema()"
   ]
  },
  {
   "cell_type": "code",
   "execution_count": 7,
   "id": "4bfa9c6f-a65d-4083-84ac-e3bf1d94984a",
   "metadata": {},
   "outputs": [],
   "source": [
    "# Save as a bronze table\n",
    "df.write.saveAsTable(\"health_tracker_data_2020_01\", format=\"delta\");"
   ]
  },
  {
   "cell_type": "code",
   "execution_count": null,
   "id": "836cda73-e1ea-4738-a4d9-faddeca60a53",
   "metadata": {},
   "outputs": [],
   "source": [
    "spark.catalog.listTables()"
   ]
  },
  {
   "cell_type": "code",
   "execution_count": 9,
   "id": "4d7d6695-6659-48c5-8187-b462160ce8c2",
   "metadata": {},
   "outputs": [],
   "source": [
    "from pyspark.sql.functions import column, date_format, from_unixtime\n",
    "\n",
    "# Create cleaner silver table, converting timestamp to a time and adding a date column\n",
    "df_silver = df \\\n",
    "  .withColumn(\"timestamp\", from_unixtime(column(\"timestamp\"))) \\\n",
    "  .withColumn(\"date\", date_format(column(\"timestamp\"), format=\"y-MM-DD\"))\n",
    "df.write.saveAsTable(\"health_tracker_silver\", format=\"delta\")"
   ]
  },
  {
   "cell_type": "code",
   "execution_count": 10,
   "id": "a8e360b7-eea1-4834-9fba-731850575289",
   "metadata": {},
   "outputs": [
    {
     "data": {
      "text/plain": [
       "[Table(name='health_tracker_data_2020_01', database='default', description=None, tableType='MANAGED', isTemporary=False),\n",
       " Table(name='health_tracker_silver', database='default', description=None, tableType='MANAGED', isTemporary=False)]"
      ]
     },
     "execution_count": 10,
     "metadata": {},
     "output_type": "execute_result"
    }
   ],
   "source": [
    "spark.catalog.listTables()"
   ]
  },
  {
   "cell_type": "code",
   "execution_count": 11,
   "id": "3d9d296e-47e2-41a7-943a-f6ffde095fd2",
   "metadata": {},
   "outputs": [
    {
     "name": "stdout",
     "output_type": "stream",
     "text": [
      "\u001b[0m\u001b[01;34mhealth_tracker_data_2020_01\u001b[0m/  \u001b[01;34mhealth_tracker_silver\u001b[0m/\n"
     ]
    }
   ],
   "source": [
    "%ls \"/tmp/spark-warehouse\""
   ]
  },
  {
   "cell_type": "code",
   "execution_count": 12,
   "id": "6ced126f-b14a-46e1-8dea-a398b7dc57ef",
   "metadata": {},
   "outputs": [],
   "source": [
    "spark.stop()"
   ]
  },
  {
   "cell_type": "code",
   "execution_count": null,
   "id": "30e4564a-a5f4-46cd-8761-c3f8cdc0a3b0",
   "metadata": {},
   "outputs": [],
   "source": []
  }
 ],
 "metadata": {
  "kernelspec": {
   "display_name": "Python 3 (ipykernel)",
   "language": "python",
   "name": "python3"
  },
  "language_info": {
   "codemirror_mode": {
    "name": "ipython",
    "version": 3
   },
   "file_extension": ".py",
   "mimetype": "text/x-python",
   "name": "python",
   "nbconvert_exporter": "python",
   "pygments_lexer": "ipython3",
   "version": "3.10.6"
  }
 },
 "nbformat": 4,
 "nbformat_minor": 5
}
