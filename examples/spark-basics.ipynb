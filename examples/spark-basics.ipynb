{
 "cells": [
  {
   "cell_type": "code",
   "execution_count": null,
   "id": "a78ca013-4723-4754-9b83-525702d5df97",
   "metadata": {
    "tags": []
   },
   "outputs": [],
   "source": [
    "# This notebook provides basic examples are interacting with Spark through the pyspark API\n",
    "# If it is run with the corresponding Docker compose file then the Web UI at http://localhost:4040\n",
    "# shows details of the jobs executed on the cluster/local machine.\n",
    "#\n",
    "# The notebook uses the latest data from IMDB to explore amd run machine learning with Spark."
   ]
  },
  {
   "cell_type": "code",
   "execution_count": null,
   "id": "21a86039-0c68-4298-8e35-980f8022823f",
   "metadata": {
    "tags": []
   },
   "outputs": [],
   "source": [
    "# Fetch and prepare data\n",
    "import gzip\n",
    "from pathlib import Path\n",
    "import tempfile\n",
    "import requests\n",
    "\n",
    "\n",
    "def download(url:str, destination: Path, decompress=True, force:bool=False) -> Path:\n",
    "    if destination.exists() and not force:\n",
    "        return destination\n",
    "\n",
    "    resp = requests.get(url)\n",
    "    with open(destination, 'wb') as file_handle:\n",
    "        if decompress:\n",
    "            file_handle.write(gzip.decompress(resp.content))\n",
    "        else:\n",
    "            file_handle.write(resp.content) \n",
    "\n",
    "    return destination\n",
    "   \n",
    "MOVIE_TITLES_URL = 'https://datasets.imdbws.com/title.basics.tsv.gz'\n",
    "MOVIE_RATINGS_URL = 'https://datasets.imdbws.com/title.ratings.tsv.gz'\n",
    "DATA_DIR = Path(tempfile.tempdir) / 'spark-example-data'\n",
    "\n",
    "DATA_DIR.mkdir(exist_ok=True)\n",
    "movie_titles_tsv = download(MOVIE_TITLES_URL, DATA_DIR / 'movie-titles.tsv')\n",
    "movie_ratings_tsv = download(MOVIE_RATINGS_URL, DATA_DIR / 'movie-ratings.tsv')"
   ]
  },
  {
   "cell_type": "code",
   "execution_count": null,
   "id": "994f5af4-4012-453c-a385-3c8c08eb7b75",
   "metadata": {
    "tags": []
   },
   "outputs": [],
   "source": [
    "from pyspark.sql import SparkSession\n",
    "\n",
    "# Spark session & context\n",
    "spark = SparkSession.builder.master(\"local\").getOrCreate()"
   ]
  },
  {
   "cell_type": "code",
   "execution_count": null,
   "id": "69962da1-8584-46b0-8236-9bc7e52bc655",
   "metadata": {},
   "outputs": [],
   "source": [
    "from pyspark.sql.types import BooleanType, StructType, StructField, IntegerType, StringType\n",
    "\n",
    "# Load data into Spark DataFrame and infer schema\n",
    "df_ratings = spark.read.csv(str(movie_ratings_tsv), header=True, inferSchema=True, sep=\"\\t\")\n",
    "#df_ratings.printSchema()\n",
    "# Compute basic stats\n",
    "df_ratings.describe([\"averageRating\"]).show()\n",
    "\n",
    "# Define the schema\n",
    "titles_schema = StructType([\n",
    "    StructField(\"tconst\", StringType(), True),\n",
    "    StructField(\"titleType\", StringType(), True),\n",
    "    StructField(\"primaryTitle\", StringType(), True),\n",
    "    StructField(\"originalTitle\", StringType(), True),\n",
    "    StructField(\"isAdult\", BooleanType(), True),\n",
    "    StructField(\"startYear\", IntegerType(), True),\n",
    "    StructField(\"endYear\", IntegerType(), True),\n",
    "    StructField(\"runtimeMinutes\", IntegerType(), False),\n",
    "    StructField(\"genres\", StringType(), True)\n",
    "])\n",
    "\n",
    "df_titles = spark.read.csv(str(movie_titles_tsv), header=True, schema=titles_schema, sep=\"\\t\", mode=\"DROPMALFORMED\")\\\n",
    "    .filter(\"titleType = 'movie' AND startYear > 2019 AND startYear < 2024\").drop(\"endYear\",\"isAdult\",\"genres\")\n",
    "#df_titles.printSchema()\n",
    "df_titles.show()"
   ]
  },
  {
   "cell_type": "code",
   "execution_count": null,
   "id": "478d2364-2be5-48b0-a9d5-10417520e25d",
   "metadata": {
    "tags": []
   },
   "outputs": [],
   "source": [
    "# Joins and selects are accessible by the DataFrame API\n",
    "df_rated_titles = df_titles.join(df_ratings, df_titles.tconst == df_ratings.tconst).drop(\"tconst\")\n",
    "df_rated_titles.select([\"primaryTitle\", \"averageRating\"]).sort(\"averageRating\", ascending=False).show()"
   ]
  },
  {
   "cell_type": "code",
   "execution_count": null,
   "id": "202955b9-a19f-415d-9614-a743f3aeeb2e",
   "metadata": {
    "tags": []
   },
   "outputs": [],
   "source": [
    "# Raw SQL queries can be applied to temporary views of the dataframes\n",
    "df_titles.createOrReplaceTempView('MovieTitles')\n",
    "df_ratings.createOrReplaceTempView('MovieRatings')\n",
    "spark.sql(\"\"\"SELECT primaryTitle, averageRating\n",
    "FROM MovieTitles\n",
    "INNER JOIN MovieRatings\n",
    "    ON MovieTitles.tconst = MovieRatings.tconst\n",
    "ORDER BY averageRating DESC\"\"\").show()\n"
   ]
  },
  {
   "cell_type": "code",
   "execution_count": null,
   "id": "874fb6a7-77df-4987-b8b3-c405d3986ef2",
   "metadata": {
    "tags": []
   },
   "outputs": [],
   "source": [
    "# Any correlations in the data?\n",
    "import pandas as pd\n",
    "\n",
    "numeric_features = [t[0] for t in df_rated_titles.dtypes if t[1] == 'int' or t[1] == 'double']\n",
    "sampled_data = df_rated_titles.select(numeric_features).sample(False, 0.8).toPandas()\n",
    "axs = pd.plotting.scatter_matrix(sampled_data, figsize=(10, 10))\n",
    "n = len(sampled_data.columns)\n",
    "for i in range(n):\n",
    "    v = axs[i, 0]\n",
    "    v.yaxis.label.set_rotation(0)\n",
    "    v.yaxis.label.set_ha('right')\n",
    "    v.set_yticks(())\n",
    "    h = axs[n-1, i]\n",
    "    h.xaxis.label.set_rotation(90)\n",
    "    h.set_xticks(())"
   ]
  },
  {
   "cell_type": "code",
   "execution_count": null,
   "id": "1f37f47a-d3b0-47b2-b520-e355d5cb7059",
   "metadata": {
    "tags": []
   },
   "outputs": [],
   "source": [
    "# Determine correlation between independent variables\n",
    "for i in df_rated_titles.columns:\n",
    "    if not isinstance(df_rated_titles.select(i).take(1)[0][0], str):\n",
    "        print( \"Correlation to averageRating for \", i, df_rated_titles.stat.corr('averageRating',i))"
   ]
  }
 ],
 "metadata": {
  "kernelspec": {
   "display_name": "Python 3 (ipykernel)",
   "language": "python",
   "name": "python3"
  },
  "language_info": {
   "codemirror_mode": {
    "name": "ipython",
    "version": 3
   },
   "file_extension": ".py",
   "mimetype": "text/x-python",
   "name": "python",
   "nbconvert_exporter": "python",
   "pygments_lexer": "ipython3",
   "version": "3.10.10"
  }
 },
 "nbformat": 4,
 "nbformat_minor": 5
}
